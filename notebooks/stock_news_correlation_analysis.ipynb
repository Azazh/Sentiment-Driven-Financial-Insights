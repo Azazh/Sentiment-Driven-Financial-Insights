{
 "cells": [
  {
   "cell_type": "code",
   "execution_count": null,
   "metadata": {},
   "outputs": [],
   "source": [
    "# Notebook: stock_news_correlation_analysis.ipynb\n",
    "\n",
    "# Import the required libraries\n",
    "import os\n",
    "from scripts.stock_news_analysis import StockNewsAnalyzer\n",
    "\n",
    "# Define file paths for stock datasets and news dataset\n",
    "STOCK_FILES = [\n",
    "    \"../data/AAPL_historical_data.csv\",\n",
    "    \"../data/AMZN_historical_data.csv\",\n",
    "    \"../data/GOOG_historical_data.csv\",\n",
    "    \"../data/META_historical_data.csv\",\n",
    "    \"../data/MSFT_historical_data.csv\",\n",
    "    \"../data/NVDA_historical_data.csv\",\n",
    "    \"../data/TSLA_historical_data.csv\"\n",
    "]\n",
    "NEWS_FILE = \"../data/raw_analyst_ratings/raw_analyst_ratings.csv\"\n",
    "\n",
    "# Initialize the StockNewsAnalyzer class\n",
    "analyzer = StockNewsAnalyzer(stock_files=STOCK_FILES, news_file=NEWS_FILE)\n",
    "\n",
    "# Step 1: Load and normalize stock data\n",
    "analyzer.load_stock_data()\n",
    "\n",
    "# Step 2: Load and normalize news data\n",
    "analyzer.load_news_data()\n",
    "\n",
    "# Step 3: Align dates between stock and news data\n",
    "analyzer.align_dates()\n",
    "\n",
    "# Step 4: Display a sample of aligned data for verification\n",
    "for stock, data in analyzer.aligned_data.items():\n",
    "    print(f\"Aligned data for {stock}:\")\n",
    "    print(data.head())\n"
   ]
  }
 ],
 "metadata": {
  "language_info": {
   "name": "python"
  }
 },
 "nbformat": 4,
 "nbformat_minor": 2
}
