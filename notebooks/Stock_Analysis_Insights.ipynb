{
 "cells": [
  {
   "cell_type": "code",
   "execution_count": null,
   "metadata": {},
   "outputs": [],
   "source": [
    "import sys\n",
    "import os\n",
    "\n",
    "# Get the current working directory (where the notebook/script is running)\n",
    "current_directory = os.getcwd()\n",
    "\n",
    "# Add the project root directory to sys.path by going up one level\n",
    "project_root = os.path.abspath(os.path.join(current_directory, \"..\"))\n",
    "sys.path.append(project_root)\n",
    "\n",
    "# Print to verify if the path is correct\n",
    "print(f\"Project root added to sys.path: {project_root}\")\n",
    "\n",
    "# Import EDAAnalysis from the scripts folder\n",
    "from scripts.eda_analysis import EDAAnalysis\n",
    "\n",
    "# Initialize the EDAAnalysis class with the dataset path\n",
    "eda = EDAAnalysis(file_path='../data/raw_analyst_ratings/raw_analyst_ratings.csv')\n"
   ]
  },
  {
   "cell_type": "markdown",
   "metadata": {},
   "source": [
    "#### Load the dataset\n"
   ]
  },
  {
   "cell_type": "code",
   "execution_count": null,
   "metadata": {},
   "outputs": [],
   "source": [
    "eda.load_data()"
   ]
  },
  {
   "cell_type": "markdown",
   "metadata": {},
   "source": [
    "### Perform EDA \n",
    "#### 1. Descriptive statistics for textual lengths"
   ]
  },
  {
   "cell_type": "code",
   "execution_count": null,
   "metadata": {},
   "outputs": [],
   "source": [
    "\n",
    "eda.calculate_headline_length()"
   ]
  },
  {
   "cell_type": "markdown",
   "metadata": {},
   "source": [
    "####  2. Count articles by publisher\n"
   ]
  },
  {
   "cell_type": "code",
   "execution_count": null,
   "metadata": {},
   "outputs": [],
   "source": [
    "eda.count_articles_by_publisher()"
   ]
  },
  {
   "cell_type": "markdown",
   "metadata": {},
   "source": [
    "#### 3. Analyze publication dates"
   ]
  },
  {
   "cell_type": "code",
   "execution_count": null,
   "metadata": {},
   "outputs": [],
   "source": [
    "# 3. Analyze publication dates\n",
    "eda.analyze_publication_dates()"
   ]
  },
  {
   "cell_type": "markdown",
   "metadata": {},
   "source": [
    "### Perform Sentiment Analysis\n"
   ]
  },
  {
   "cell_type": "code",
   "execution_count": null,
   "metadata": {},
   "outputs": [],
   "source": [
    "# Perform Sentiment Analysis\n",
    "eda.perform_sentiment_analysis()"
   ]
  },
  {
   "cell_type": "markdown",
   "metadata": {},
   "source": [
    "#### Perform Topic Modeling\n"
   ]
  },
  {
   "cell_type": "code",
   "execution_count": null,
   "metadata": {},
   "outputs": [],
   "source": [
    "# Perform Topic Modeling\n",
    "eda.perform_topic_modeling(num_topics=5, num_keywords=10)"
   ]
  },
  {
   "cell_type": "markdown",
   "metadata": {},
   "source": [
    "#### Time Series Analysis\n",
    "\n"
   ]
  },
  {
   "cell_type": "code",
   "execution_count": null,
   "metadata": {},
   "outputs": [],
   "source": [
    "eda.preprocess_data()\n",
    "eda.analyze_publication_frequency()\n",
    "eda.analyze_publishing_times()"
   ]
  },
  {
   "cell_type": "markdown",
   "metadata": {},
   "source": [
    "#### Publisher Analysis:\n",
    "##### which publishers contribute most to the news feed? \n",
    "##### Is there a difference in the type of news they report?\n",
    "##### If email addresses are used as publisher names, identify unique domains to see if certain organizations contribute more frequently.\n"
   ]
  },
  {
   "cell_type": "code",
   "execution_count": null,
   "metadata": {},
   "outputs": [],
   "source": [
    "# Extract keywords and categorize news\n",
    "eda.extract_keywords()\n",
    "eda.categorize_news()\n",
    "\n",
    "# Analyze and plot publisher contributions\n",
    "eda.plot_publisher_contributions(top_n=10)\n",
    "\n",
    "# Analyze and plot category distribution\n",
    "eda.plot_category_distribution()\n",
    "\n",
    "# Extract domains and plot the top domains\n",
    "eda.extract_domains_from_publishers()\n",
    "eda.plot_top_domains(top_n=10)"
   ]
  }
 ],
 "metadata": {
  "kernelspec": {
   "display_name": "venv",
   "language": "python",
   "name": "python3"
  },
  "language_info": {
   "codemirror_mode": {
    "name": "ipython",
    "version": 3
   },
   "file_extension": ".py",
   "mimetype": "text/x-python",
   "name": "python",
   "nbconvert_exporter": "python",
   "pygments_lexer": "ipython3",
   "version": "3.10.12"
  }
 },
 "nbformat": 4,
 "nbformat_minor": 2
}
