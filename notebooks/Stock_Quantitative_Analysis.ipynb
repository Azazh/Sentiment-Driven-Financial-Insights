{
 "cells": [
  {
   "cell_type": "markdown",
   "metadata": {},
   "source": [
    "#### Financial Stock Price Analysis using TA-Lib and pynance"
   ]
  },
  {
   "cell_type": "code",
   "execution_count": null,
   "metadata": {},
   "outputs": [],
   "source": [
    "import sys\n",
    "sys.path.append(\"../\") \n",
    "from scripts.stock_data_qualitative_analysis import StockDataAnalyzer\n",
    "# Define the directory containing stock CSV files\n",
    "data_directory = \"../data/yfinance_data/\"  \n",
    "# Create an instance of StockDataAnalyzer\n",
    "analyzer = StockDataAnalyzer(data_path=data_directory)\n",
    "\n",
    "# Analyze all stocks in the directory\n",
    "analyzer.analyze_all_stocks()\n"
   ]
  }
 ],
 "metadata": {
  "kernelspec": {
   "display_name": ".venv",
   "language": "python",
   "name": "python3"
  },
  "language_info": {
   "codemirror_mode": {
    "name": "ipython",
    "version": 3
   },
   "file_extension": ".py",
   "mimetype": "text/x-python",
   "name": "python",
   "nbconvert_exporter": "python",
   "pygments_lexer": "ipython3",
   "version": "3.10.12"
  }
 },
 "nbformat": 4,
 "nbformat_minor": 2
}
